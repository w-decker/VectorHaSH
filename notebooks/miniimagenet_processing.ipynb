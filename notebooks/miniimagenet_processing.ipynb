{
 "cells": [
  {
   "cell_type": "code",
   "execution_count": 1,
   "id": "66445687-7b03-4457-855a-6b2aa597fc7d",
   "metadata": {},
   "outputs": [],
   "source": [
    "import numpy as np\n",
    "import pickle"
   ]
  },
  {
   "cell_type": "code",
   "execution_count": 3,
   "id": "6463bed9",
   "metadata": {},
   "outputs": [],
   "source": [
    "import requests\n",
    "# https://www.kaggle.com/datasets/whitemoon/miniimagenet?resource=download&select=mini-imagenet-cache-train.pkl\n",
    "\n",
    "def download_file(url, filename):\n",
    "    response = requests.get(url)\n",
    "    with open(filename, 'wb') as f:\n",
    "        f.write(response.content)\n",
    "\n",
    "download_file('https://www.kaggle.com/datasets/whitemoon/miniimagenet?resource=download&select=mini-imagenet-cache-train.pkl', 'mini-imagenet-cache-train.pkl')"
   ]
  },
  {
   "cell_type": "code",
   "execution_count": 9,
   "id": "96d1f44a-4aa6-4c14-ac71-3dec3937810a",
   "metadata": {},
   "outputs": [],
   "source": [
    "#Pickle file downloaded from: https://www.kaggle.com/datasets/whitemoon/miniimagenet?resource=download&select=mini-imagenet-cache-train.pkl\n",
    "train_in = open(\"mini-imagenet-cache-train.pkl\", \"rb\")\n",
    "train = pickle.load(train_in)\n",
    "X_train = train[\"image_data\"]\n",
    "X_train.shape\n",
    "X_train = X_train.reshape([64, 600, 84, 84, 3])\n",
    "# tmp = X_train[:6].reshape((3600,84*84*3))\n",
    "# np.linalg.matrix_rank(tmp)"
   ]
  },
  {
   "cell_type": "code",
   "execution_count": 10,
   "id": "8ddc47bd-f8b3-43ce-9af0-b4138b27e285",
   "metadata": {},
   "outputs": [],
   "source": [
    "c_miniimagenet = X_train[:6].reshape((3600,84,84,3))/256\n",
    "np.save(\"miniimagenet_3600_84_84_3.npy\",c_miniimagenet)"
   ]
  },
  {
   "cell_type": "code",
   "execution_count": 11,
   "id": "b53c950b-0e80-43a4-a34b-9e849310142b",
   "metadata": {},
   "outputs": [],
   "source": [
    "X_train_crop = X_train[:,:,12:72,12:72]\n",
    "BW_train = X_train_crop.mean(axis=4)/256\n",
    "BW_all_train = BW_train.reshape((64*600,60,60))\n",
    "BW_3600=BW_all_train[:3600]\n",
    "# tmp = BW_3600.reshape((3600,3600)).T\n",
    "# print(np.linalg.matrix_rank(tmp))\n"
   ]
  },
  {
   "cell_type": "code",
   "execution_count": 12,
   "id": "a0591be2-8f0d-4567-94aa-ad2f4fd431f6",
   "metadata": {},
   "outputs": [],
   "source": [
    "np.save('BW_miniimagenet_3600_60_60_full_rank.npy',BW_3600)"
   ]
  },
  {
   "cell_type": "code",
   "execution_count": null,
   "id": "ac66fb8b",
   "metadata": {},
   "outputs": [],
   "source": []
  }
 ],
 "metadata": {
  "kernelspec": {
   "display_name": "base",
   "language": "python",
   "name": "python3"
  },
  "language_info": {
   "codemirror_mode": {
    "name": "ipython",
    "version": 3
   },
   "file_extension": ".py",
   "mimetype": "text/x-python",
   "name": "python",
   "nbconvert_exporter": "python",
   "pygments_lexer": "ipython3",
   "version": "3.12.9"
  }
 },
 "nbformat": 4,
 "nbformat_minor": 5
}
