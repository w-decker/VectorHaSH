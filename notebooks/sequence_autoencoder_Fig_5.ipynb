{
 "cells": [
  {
   "cell_type": "code",
   "execution_count": null,
   "metadata": {
    "id": "pAZmzYxRqmcu"
   },
   "outputs": [],
   "source": [
    "import matplotlib.pyplot as plt\n",
    "import numpy as np\n",
    "import pandas as pd\n",
    "import tensorflow as tf\n",
    "\n",
    "from sklearn.metrics import accuracy_score, precision_score, recall_score\n",
    "from sklearn.model_selection import train_test_split\n",
    "from tensorflow.keras import layers, losses\n",
    "from tensorflow.keras.datasets import fashion_mnist\n",
    "from tensorflow.keras.models import Model"
   ]
  },
  {
   "cell_type": "markdown",
   "metadata": {
    "jp-MarkdownHeadingCollapsed": true,
    "tags": []
   },
   "source": [
    "### Defining/loading stuff"
   ]
  },
  {
   "cell_type": "code",
   "execution_count": null,
   "metadata": {
    "id": "8f1svsrXb5YZ"
   },
   "outputs": [],
   "source": [
    "data_features = np.load('BW_miniimagenet_3600_60_60.npy').reshape((3600,3600))"
   ]
  },
  {
   "cell_type": "code",
   "execution_count": null,
   "metadata": {
    "id": "HXzYJ9y-vaiz"
   },
   "outputs": [],
   "source": [
    "def corrupt_p(codebook,p=0.1,booktype='01'):\n",
    "  rand_indices = np.sign(np.random.uniform(size=codebook.shape)- p )\n",
    "  if booktype=='-11':\n",
    "    return np.multiply(codebook,rand_indices)\n",
    "  elif booktype=='01':\n",
    "    return abs(codebook - 0.5*(-rand_indices+1))\n",
    "  elif booktype=='cts':\n",
    "    return codebook + np.random.normal(0,1,size=codebook.shape)*p\n",
    "  else:\n",
    "    print(\"codebook should be -11; 01; or cts\")\n",
    "    return 0\n"
   ]
  },
  {
   "cell_type": "code",
   "execution_count": null,
   "metadata": {
    "id": "H9_eSBQ2ck1o"
   },
   "outputs": [],
   "source": [
    "sbook = data_features - np.mean(data_features.flatten())"
   ]
  },
  {
   "cell_type": "code",
   "execution_count": null,
   "metadata": {
    "id": "819PxRVTYbSQ"
   },
   "outputs": [],
   "source": [
    "sbook = np.sign(np.random.uniform(size=(Npatts,Ns))-0.5)\n",
    "sbook = 0.5*(sbook+1)"
   ]
  },
  {
   "cell_type": "code",
   "execution_count": null,
   "metadata": {
    "id": "N1LGpuUQmSgu"
   },
   "outputs": [],
   "source": [
    "def cleanup(s, sbook):\n",
    "  idx = np.argmax(sbook@s)\n",
    "  sclean = sbook[idx,:]\n",
    "  return sclean"
   ]
  },
  {
   "cell_type": "code",
   "execution_count": null,
   "metadata": {
    "id": "bAeGvhup90_1"
   },
   "outputs": [],
   "source": [
    "def binarize(data,bin_type='01'):\n",
    "  if bin_type=='01':\n",
    "    return 0.5*(np.sign(data - 0.5)+1)\n",
    "  elif bin_type=='-11':\n",
    "    return np.sign(data)"
   ]
  },
  {
   "cell_type": "code",
   "execution_count": null,
   "metadata": {
    "id": "Zu96dBJ47JO3"
   },
   "outputs": [],
   "source": [
    "def get_error(x,y):\n",
    "  if x.shape != y.shape:\n",
    "    return \"error\"\n",
    "  return np.sum(abs(x-y))/np.prod(x.shape)"
   ]
  },
  {
   "cell_type": "code",
   "execution_count": null,
   "metadata": {
    "id": "0itSdsqItHHa"
   },
   "outputs": [],
   "source": [
    "def get_mse(x,y):\n",
    "  if x.shape != y.shape:\n",
    "    return \"error\"\n",
    "  return np.average((x-y)**2.)"
   ]
  },
  {
   "cell_type": "code",
   "execution_count": null,
   "metadata": {
    "id": "dcqWqUQsoDeQ"
   },
   "outputs": [],
   "source": [
    "def get_overlap(x,y):\n",
    "  if x.shape != y.shape:\n",
    "    return \"error\"\n",
    "  x = (x/np.linalg.norm(x,axis=1)[:,None])\n",
    "  y = (y/np.linalg.norm(y,axis=1)[:,None])\n",
    "  return np.average(np.einsum('ij,ij->i',x,y))"
   ]
  },
  {
   "cell_type": "markdown",
   "metadata": {},
   "source": [
    "### Varying Npatts binary sbook seq"
   ]
  },
  {
   "cell_type": "code",
   "execution_count": null,
   "metadata": {
    "colab": {
     "background_save": true,
     "base_uri": "https://localhost:8080/"
    },
    "id": "2DpR7HthahtS",
    "outputId": "f9c388ef-05f9-4644-caca-61c50ceaef85"
   },
   "outputs": [
    {
     "name": "stderr",
     "output_type": "stream",
     "text": [
      "100%|██████████| 36/36 [29:02<00:00, 48.40s/it]\n",
      "100%|██████████| 36/36 [32:06<00:00, 53.50s/it]\n"
     ]
    }
   ],
   "source": [
    "###Sequences\n",
    "\n",
    "import tqdm\n",
    "Npatts_list = np.arange(1,3601,50)\n",
    "nruns = 3\n",
    "first_clean_overlap_list = np.zeros((Npatts_list.shape[0],nruns))\n",
    "final_clean_overlap_list = np.zeros((Npatts_list.shape[0],nruns))\n",
    "first_noisy_overlap_list = np.zeros((Npatts_list.shape[0],nruns))\n",
    "final_noisy_overlap_list = np.zeros((Npatts_list.shape[0],nruns))\n",
    "verbose=False\n",
    "\n",
    "for nidx in (range(nruns)):\n",
    "  for idx,Npatts in enumerate(tqdm.tqdm(Npatts_list)):\n",
    "    if verbose:\n",
    "      print(\"xxxxx nidx = \"+str(nidx))\n",
    "      print(\"xxxxx idx = \"+str(idx))\n",
    "      print(\"xxxxx Npatts = \"+str(Npatts))\n",
    "    Ng=38#9+16+25\n",
    "    Np=275#400\n",
    "    Ns=900#3600\n",
    "    # Npatts=200\n",
    "    data_shape = Ns\n",
    "    test_noise_frac=0.0\n",
    "    test_noise_frac1=0.0#0.025   ###Second case will be used to apply sign nonlinearity at each timestep\n",
    "\n",
    "    sbook = np.sign(np.random.uniform(size=(Npatts,Ns))-0.5)\n",
    "    \n",
    "\n",
    "    true_data = sbook[:Npatts]   #data_features[:Npatts]   #double_train_data_cts  #train_data_cts   #noise_aug_train_data  #sbook # bin_train[:Npatts] #\n",
    "\n",
    "    class Autoencoder(Model):\n",
    "      def __init__(self, Np,Ng,Ns):\n",
    "        super(Autoencoder, self).__init__()\n",
    "        self.Np = Np\n",
    "        self.Ns = Ns\n",
    "        self.Ng = Ng\n",
    "        self.encoder = tf.keras.Sequential([\n",
    "          layers.Dense(Np, activation='tanh'),\n",
    "          layers.Dense(Ng, activation='tanh'),\n",
    "        ])\n",
    "        self.decoder = tf.keras.Sequential([\n",
    "          layers.Dense(Np, activation='tanh'),\n",
    "          layers.Dense(Ns, activation='tanh')\n",
    "        ])\n",
    "\n",
    "      def call(self, x):\n",
    "        encoded = self.encoder(x)\n",
    "        decoded = self.decoder(encoded)\n",
    "        return decoded\n",
    "\n",
    "    autoencoder = Autoencoder(Np,Ng,Ns)\n",
    "\n",
    "    autoencoder.compile(optimizer='adam', loss=losses.MeanSquaredError())\n",
    "\n",
    "    autoencoder.fit(true_data[:-1], true_data[1:], epochs=1000, verbose=0);\n",
    "    \n",
    "    # true_data = sbook  #train_data  #\n",
    "    if verbose: print(\"-------------Testing--1----------------\")\n",
    "    if verbose: print(\"Testing noise percentage = \"+str(test_noise_frac))\n",
    "    cts_corrupt = corrupt_p(true_data,p=test_noise_frac,booktype='-11')\n",
    "\n",
    "    decoded_data = np.zeros_like(true_data)\n",
    "    decoded_data[0] = cts_corrupt[0]\n",
    "\n",
    "    \n",
    "    for ite in range(1,Npatts):\n",
    "      encoded_data = autoencoder.encoder(decoded_data[ite-1,None]).numpy()\n",
    "      decoded_data[ite] = autoencoder.decoder(encoded_data).numpy()\n",
    "    decoded_data = np.sign(decoded_data)\n",
    "\n",
    "    if verbose:\n",
    "      print(\"Np = \"+str(Np))\n",
    "      print(\"Ns = \"+str(Ns))\n",
    "      print(\"Ng = \"+str(Ng))\n",
    "      print(\"Npatts = \"+str(Npatts))\n",
    "\n",
    "\n",
    "      print(\"Initial error: \" + str(get_mse(true_data[:,:data_shape], cts_corrupt[:Npatts,:data_shape])))\n",
    "      print(\"error after one timestep: \" + str(get_mse(true_data[:Npatts,:data_shape],decoded_data1[:Npatts,:data_shape])))\n",
    "      print(\"error after iteration: \" + str(get_mse(true_data[:Npatts,:data_shape],decoded_data[:Npatts,:data_shape])))\n",
    "\n",
    "      print(\"Initial overlap: \" + str(get_overlap(true_data[:,:data_shape], cts_corrupt[:Npatts,:data_shape])))\n",
    "      print(\"overlap after one timestep: \" + str(get_overlap(true_data[:Npatts,:data_shape],decoded_data1[:Npatts,:data_shape])))\n",
    "      print(\"overlap after iteration: \" + str(get_overlap(true_data[:Npatts,:data_shape],decoded_data[:Npatts,:data_shape])))\n",
    "\n",
    "    final_clean_overlap_list[idx,nidx]=get_overlap(true_data[:Npatts,:data_shape],decoded_data[:Npatts,:data_shape])\n",
    "\n",
    "    if verbose: print(\"-------------Testing--2----------------\")\n",
    "    if verbose: print(\"Testing noise percentage = \"+str(test_noise_frac1))\n",
    "    cts_corrupt = corrupt_p(true_data,p=test_noise_frac1,booktype='-11')\n",
    "\n",
    "    decoded_data = np.zeros_like(true_data)\n",
    "    decoded_data[0] = cts_corrupt[0]\n",
    "\n",
    "    \n",
    "    for ite in range(1,Npatts):\n",
    "      encoded_data = autoencoder.encoder(decoded_data[ite-1,None]).numpy()\n",
    "      decoded_data[ite] = np.sign(autoencoder.decoder(encoded_data).numpy())\n",
    "    decoded_data = np.sign(decoded_data)\n",
    "\n",
    "    if verbose:\n",
    "      print(\"Np = \"+str(Np))\n",
    "      print(\"Ns = \"+str(Ns))\n",
    "      print(\"Ng = \"+str(Ng))\n",
    "      print(\"Npatts = \"+str(Npatts))\n",
    "\n",
    "\n",
    "      print(\"Initial error: \" + str(get_mse(true_data[:,:data_shape], cts_corrupt[:Npatts,:data_shape])))\n",
    "      print(\"error after one timestep: \" + str(get_mse(true_data[:Npatts,:data_shape],decoded_data1[:Npatts,:data_shape])))\n",
    "      print(\"error after iteration: \" + str(get_mse(true_data[:Npatts,:data_shape],decoded_data[:Npatts,:data_shape])))\n",
    "\n",
    "      print(\"Initial overlap: \" + str(get_overlap(true_data[:,:data_shape], cts_corrupt[:Npatts,:data_shape])))\n",
    "      print(\"overlap after one timestep: \" + str(get_overlap(true_data[:Npatts,:data_shape],decoded_data1[:Npatts,:data_shape])))\n",
    "      print(\"overlap after iteration: \" + str(get_overlap(true_data[:Npatts,:data_shape],decoded_data[:Npatts,:data_shape])))\n",
    "\n",
    "    final_noisy_overlap_list[idx,nidx]=get_overlap(true_data[:Npatts,:data_shape],decoded_data[:Npatts,:data_shape])\n"
   ]
  },
  {
   "cell_type": "markdown",
   "metadata": {},
   "source": [
    "### Plotting/saving"
   ]
  },
  {
   "cell_type": "code",
   "execution_count": null,
   "metadata": {
    "colab": {
     "base_uri": "https://localhost:8080/",
     "height": 466
    },
    "id": "TxesSTtI2EGo",
    "outputId": "d7717586-6012-4468-dcdd-bd2a9fb0b09b"
   },
   "outputs": [],
   "source": [
    "plt.plot(Npatts_list,np.average(final_noisy_overlap_list,axis=1), label='with sgn nonlin')\n",
    "plt.plot(Npatts_list,np.average(final_clean_overlap_list,axis=1), label='without sgn nonlin')\n",
    "# plt.errorbar(Npatts_list,np.average(final_noisy_overlap_list,axis=1),yerr=np.std(final_noisy_overlap_list,axis=1), label='noisy, final')\n",
    "# plt.errorbar(Npatts_list,np.average(final_clean_overlap_list,axis=1),yerr=np.std(final_clean_overlap_list,axis=1), label='clean, final')\n",
    "plt.xlabel('Number of patterns')\n",
    "plt.ylabel('Overlap')\n",
    "plt.legend()"
   ]
  },
  {
   "cell_type": "code",
   "execution_count": null,
   "metadata": {
    "id": "OZxOUvuCrvPP"
   },
   "outputs": [],
   "source": [
    "np.save(\"seq_wo_sgn_overlap_list_Np_\"+str(Np)+\"_Ns_\"+str(Ns)+\"_Ng_\"+str(Ng)+\"_nruns_\"+str(nruns)+\".npy\", final_clean_overlap_list)\n",
    "np.save(\"seq_w_sgn_overlap_list_Np_\"+str(Np)+\"_Ns_\"+str(Ns)+\"_Ng_\"+str(Ng)+\"_nruns_\"+str(nruns)+\".npy\", final_noisy_overlap_list)\n",
    "np.save(\"Npatts_list_seq.npy\", Npatts_list)\n",
    "\n"
   ]
  }
 ],
 "metadata": {
  "accelerator": "GPU",
  "colab": {
   "provenance": []
  },
  "kernelspec": {
   "display_name": "Python 3 (ipykernel)",
   "language": "python",
   "name": "python3"
  },
  "language_info": {
   "codemirror_mode": {
    "name": "ipython",
    "version": 3
   },
   "file_extension": ".py",
   "mimetype": "text/x-python",
   "name": "python",
   "nbconvert_exporter": "python",
   "pygments_lexer": "ipython3",
   "version": "3.9.7"
  }
 },
 "nbformat": 4,
 "nbformat_minor": 4
}
